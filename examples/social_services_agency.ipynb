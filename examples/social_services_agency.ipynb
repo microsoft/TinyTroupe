{
 "cells": [
  {
   "cell_type": "markdown",
   "metadata": {},
   "source": [
    "# Social Services Agency Scenario\n",
    "\n",
    "This notebook simulates interactions within a social services agency in Chicago. \n",
    "The agency works with underprivileged individuals and families and is funded through grants and Medicaid."
   ]
  },
  {
   "cell_type": "code",
   "execution_count": null,
   "metadata": {},
   "outputs": [],
   "source": [
    "import json\n",
    "import sys\n",
    "sys.path.insert(0, '..')\n",
    "\n",
    "import tinytroupe\n",
    "from tinytroupe.agent import TinyPerson\n",
    "from tinytroupe.environment import TinyWorld\n",
    "from tinytroupe.examples import *"
   ]
  },
  {
   "cell_type": "markdown",
   "metadata": {},
   "source": [
    "## 1. Load Agent Personas"
   ]
  },
  {
   "cell_type": "code",
   "execution_count": null,
   "metadata": {},
   "outputs": [],
   "source": [
    "brenda = TinyPerson.load_specification(\"./agents/BrendaSmith.agent.json\")\n",
    "david = TinyPerson.load_specification(\"./agents/DavidMiller.agent.json\")\n",
    "maria = TinyPerson.load_specification(\"./agents/MariaRodriguez.agent.json\")\n",
    "john = TinyPerson.load_specification(\"./agents/JohnDoe.agent.json\")\n",
    "\n",
    "print(f"Loaded: {brenda.persona.name}")\n",
    "print(f"Loaded: {david.persona.name}")\n",
    "print(f"Loaded: {maria.persona.name}")\n",
    "print(f"Loaded: {john.persona.name}")"
   ]
  },
  {
   "cell_type": "markdown",
   "metadata": {},
   "source": [
    "## 2. Create the World (Social Services Agency)"
   ]
  },
  {
   "cell_type": "code",
   "execution_count": null,
   "metadata": {},
   "outputs": [],
   "source": [
    "agency_agents = [brenda, david, maria, john]\n",
    "world = TinyWorld(\"Community Support Services of Chicago\", agency_agents)\n",
    "world.make_everyone_accessible()\n",
    "\n",
    "print(f"Created world: {world.name} with {len(world.people)} agents.")"
   ]
  },
  {
   "cell_type": "markdown",
   "metadata": {},
   "source": [
    "## 3. Simulate Interactions"
   ]
  },
  {
   "cell_type": "markdown",
   "metadata": {},
   "source": [
    "### Scenario 1: Client Intake - Maria Rodriguez with David Miller\n",
    "Maria, a single mother, is meeting David, a newer social worker, for an intake assessment. She needs help with housing and childcare."
   ]
  },
  {
   "cell_type": "code",
   "execution_count": null,
   "metadata": {},
   "outputs": [],
   "source": [
    "print(\"--- Scenario 1: Maria Rodriguez & David Miller ---\")\n",
    "world.reset_interactions() # Reset world interactions for a clean scenario\n",
    "\n",
    "# Define who is interacting in this specific scenario\n",
    "david.make_accessible_to(maria)\n",
    "maria.make_accessible_to(david)\n",
    "\n",
    "initial_statement_maria = (
",
    "    \"Hi David, thanks for seeing me. I'm Maria Rodriguez. I'm in a really tough spot. \"\n",
    "    \"I'm a single mom with two kids, one is 8 and the other is 3. We've been bouncing between places, \"\n",
    "    \"and I desperately need to find stable housing. My retail job hours are inconsistent, \"\n",
    "    \"and I can't get more hours or a better job without reliable childcare for my youngest. \"\n",
    "    \"I'm hoping you can tell me what kind of help I can get. I've heard about some housing assistance programs and childcare subsidies, possibly through Medicaid or grants?\"\n",
    ")\n",
    "\n",
    "maria.listen(f\"You are meeting David Miller, a social worker. Start by explaining your situation: {initial_statement_maria}\")\n",
    "world.run(5) # Run for 5 steps to allow for a basic conversation\n",
    "\n",
    "print(\"\n--- Maria's Perspective (Scenario 1) ---\")\n",
    "maria.pp_current_interactions()\n",
    "print(\"\n--- David's Perspective (Scenario 1) ---\")\n",
    "david.pp_current_interactions()"
   ]
  },
  {
   "cell_type": "markdown",
   "metadata": {},
   "source": [
    "### Scenario 2: Follow-up & Challenges - John Doe with Brenda Smith\n",
    "John, who is homeless and seeking employment, has a follow-up meeting with Brenda, a senior social worker. He is frustrated with the perceived lack of progress."
   ]
  },
  {
   "cell_type": "code",
   "execution_count": null,
   "metadata": {},
   "outputs": [],
   "source": [
    "print(\"\n\n--- Scenario 2: John Doe & Brenda Smith ---\")\n",
    "world.reset_interactions() # Reset world interactions for a clean scenario\n",
    "\n",
    "# Define who is interacting in this specific scenario\n",
    "brenda.make_accessible_to(john)\n",
    "john.make_accessible_to(brenda)\n",
    "\n",
    "initial_statement_john = (
",
    "    \"Ms. Smith, I appreciate you meeting me again, but I gotta be honest, I'm getting real tired of this. \"\n",
    "    \"I'm still in the shelter, still no job prospects that have panned out. You mentioned some job training programs \"\n",
    "    \"and housing resources last time, but everything seems to take forever or have a mile-long waitlist. \"\n",
    "    \"Is anything actually moving forward? These grant-funded things... do they even work? And what about Medicaid for my back pain? That's another pile of papers.\"\n",
    ")\n",
    "\n",
    "john.listen(f\"You are meeting Brenda Smith, a social worker, for a follow-up. Express your frustrations: {initial_statement_john}\")\n",
    "world.run(6) # Run for 6 steps to allow for a more detailed interaction\n",
    "\n",
    "print(\"\n--- John's Perspective (Scenario 2) ---\")\n",
    "john.pp_current_interactions()\n",
    "print(\"\n--- Brenda's Perspective (Scenario 2) ---\")\n",
    "brenda.pp_current_interactions()"
   ]
  }
 ],
 "metadata": {
  "kernelspec": {
   "display_name": "Python 3",
   "language": "python",
   "name": "python3"
  },
  "language_info": {
   "codemirror_mode": {
    "name": "ipython",
    "version": 3
   },
   "file_extension": ".py",
   "mimetype": "text/x-python",
   "name": "python",
   "nbconvert_exporter": "python",
   "pygments_lexer": "ipython3",
   "version": "3.10"
  }
 },
 "nbformat": 4,
 "nbformat_minor": 5
}
